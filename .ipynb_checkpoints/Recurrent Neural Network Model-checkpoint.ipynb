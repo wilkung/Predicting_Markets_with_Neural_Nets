{
 "cells": [
  {
   "cell_type": "code",
   "execution_count": 1,
   "metadata": {
    "collapsed": true
   },
   "outputs": [],
   "source": [
    "from pybrain.tools.shortcuts import buildNetwork\n",
    "from pybrain.supervised.trainers import BackpropTrainer\n",
    "from pybrain.datasets import SupervisedDataSet,UnsupervisedDataSet\n",
    "from pybrain.structure import LinearLayer"
   ]
  },
  {
   "cell_type": "code",
   "execution_count": 83,
   "metadata": {
    "collapsed": false
   },
   "outputs": [],
   "source": [
    "import pickle\n",
    "\n",
    "# Read in pickle input features\n",
    "f = open('xinput.pkl', 'rb')\n",
    "X_Data_Diffs_Shifted = pickle.load(f)\n",
    "\n",
    "# Convert input to array of tuples\n",
    "xinput_records = X_Data_Diffs_Shifted.to_records()\n",
    "\n",
    "# Read in pickle input targets\n",
    "g = open('yinput.pkl', 'rb')\n",
    "ymatrix = pickle.load(g)\n",
    "\n",
    "# Create training set\n",
    "input_dimension = len(xinput_records[0]) - 1\n",
    "training_set = SupervisedDataSet(input_dimension, 1)\n",
    "rownum = 0\n",
    "for xinput_record in xinput_records:\n",
    "    training_set.addSample( list(xinput_record)[1:], ymatrix[rownum] )\n",
    "    rownum += 1"
   ]
  },
  {
   "cell_type": "code",
   "execution_count": 99,
   "metadata": {
    "collapsed": false
   },
   "outputs": [],
   "source": [
    "# Create the test set (NOTE: copy of training set, bad!)\n",
    "test_set = UnsupervisedDataSet(input_dimension)\n",
    "\n",
    "rownum = 0\n",
    "for xinput_record in xinput_records:\n",
    "    test_set.addSample( list(xinput_record)[1:])\n",
    "    rownum += 1"
   ]
  },
  {
   "cell_type": "code",
   "execution_count": null,
   "metadata": {
    "collapsed": false
   },
   "outputs": [],
   "source": [
    "# Create the network\n",
    "net = buildNetwork(input_dimension, 400, 200, 1, outclass=LinearLayer,bias=True, recurrent=True)\n",
    "\n",
    "# Train it on our training set\n",
    "trainer = BackpropTrainer(net, training_set)\n",
    "trainer.trainEpochs(20)"
   ]
  },
  {
   "cell_type": "code",
   "execution_count": 119,
   "metadata": {
    "collapsed": false
   },
   "outputs": [],
   "source": [
    "# Run the network on the test set\n",
    "results = net.activateOnDataset(test_set)"
   ]
  },
  {
   "cell_type": "code",
   "execution_count": 120,
   "metadata": {
    "collapsed": false
   },
   "outputs": [],
   "source": [
    "# Round the results to get a 0 or 1\n",
    "rounded_results = map(int, map(round, results))"
   ]
  },
  {
   "cell_type": "code",
   "execution_count": 121,
   "metadata": {
    "collapsed": false
   },
   "outputs": [
    {
     "name": "stdout",
     "output_type": "stream",
     "text": [
      "Accuracy is 0.531212\n"
     ]
    }
   ],
   "source": [
    "# Calculate the accuracy\n",
    "num_correct = 0\n",
    "for row in range(len(rounded_results)):\n",
    "    if ymatrix[row] == rounded_results[row]:\n",
    "        num_correct += 1\n",
    "print \"Accuracy is %f\" % (num_correct / float(len(rounded_results)))"
   ]
  },
  {
   "cell_type": "code",
   "execution_count": null,
   "metadata": {
    "collapsed": false
   },
   "outputs": [],
   "source": []
  },
  {
   "cell_type": "markdown",
   "metadata": {},
   "source": [
    "==========="
   ]
  },
  {
   "cell_type": "code",
   "execution_count": 28,
   "metadata": {
    "collapsed": false
   },
   "outputs": [
    {
     "data": {
      "text/plain": [
       "numpy.ndarray"
      ]
     },
     "execution_count": 28,
     "metadata": {},
     "output_type": "execute_result"
    }
   ],
   "source": [
    "type(ds.data['input'])"
   ]
  },
  {
   "cell_type": "code",
   "execution_count": 29,
   "metadata": {
    "collapsed": true
   },
   "outputs": [],
   "source": [
    "import pandas as pd\n",
    "data_df = pd.DataFrame.from_csv('data_file.txt',index_col=False)"
   ]
  },
  {
   "cell_type": "code",
   "execution_count": 55,
   "metadata": {
    "collapsed": false
   },
   "outputs": [],
   "source": [
    "import pickle\n",
    "f = open('xinput.pkl', 'rb')\n",
    "X_Data_Diffs_Shifted = pickle.load(f)\n",
    "\n",
    "g = open('yinput.pkl', 'rb')\n",
    "ymatrix = pickle.load(g)"
   ]
  },
  {
   "cell_type": "code",
   "execution_count": 58,
   "metadata": {
    "collapsed": false
   },
   "outputs": [],
   "source": [
    "xinput_records = X_Data_Diffs_Shifted.to_records()"
   ]
  },
  {
   "cell_type": "code",
   "execution_count": 73,
   "metadata": {
    "collapsed": false
   },
   "outputs": [
    {
     "data": {
      "text/plain": [
       "<pybrain.datasets.supervised.SupervisedDataSet at 0x10ae79990>"
      ]
     },
     "execution_count": 73,
     "metadata": {},
     "output_type": "execute_result"
    }
   ],
   "source": [
    "test = SupervisedDataSet(len(xinput_records[0]) - 1, 1)\n",
    "rownum = 0\n",
    "for xinput_record in xinput_records:\n",
    "    test.addSample( list(xinput_records[0])[1:], ymatrix[rownum] )\n",
    "    rownum += 1\n",
    "test"
   ]
  },
  {
   "cell_type": "code",
   "execution_count": 72,
   "metadata": {
    "collapsed": false
   },
   "outputs": [
    {
     "data": {
      "text/plain": [
       "array([0, 1, 0, 0, 0, 0, 0, 0, 1], dtype=int32)"
      ]
     },
     "execution_count": 72,
     "metadata": {},
     "output_type": "execute_result"
    }
   ],
   "source": []
  },
  {
   "cell_type": "code",
   "execution_count": null,
   "metadata": {
    "collapsed": true
   },
   "outputs": [],
   "source": []
  }
 ],
 "metadata": {
  "kernelspec": {
   "display_name": "Python 2",
   "language": "python",
   "name": "python2"
  },
  "language_info": {
   "codemirror_mode": {
    "name": "ipython",
    "version": 2
   },
   "file_extension": ".py",
   "mimetype": "text/x-python",
   "name": "python",
   "nbconvert_exporter": "python",
   "pygments_lexer": "ipython2",
   "version": "2.7.10"
  }
 },
 "nbformat": 4,
 "nbformat_minor": 0
}
