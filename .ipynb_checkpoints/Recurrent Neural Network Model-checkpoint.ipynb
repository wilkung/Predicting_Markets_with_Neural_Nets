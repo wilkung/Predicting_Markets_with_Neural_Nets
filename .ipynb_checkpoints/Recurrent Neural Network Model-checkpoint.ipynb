{
 "cells": [
  {
   "cell_type": "code",
   "execution_count": 253,
   "metadata": {
    "collapsed": true
   },
   "outputs": [],
   "source": [
    "from pybrain.tools.shortcuts import buildNetwork\n",
    "from pybrain.supervised.trainers import BackpropTrainer\n",
    "from pybrain.datasets import SupervisedDataSet,UnsupervisedDataSet\n",
    "from pybrain.structure import LinearLayer"
   ]
  },
  {
   "cell_type": "code",
   "execution_count": 254,
   "metadata": {
    "collapsed": false
   },
   "outputs": [],
   "source": [
    "import pickle\n",
    "\n",
    "# Read in pickle input features\n",
    "f = open('xinput.pkl', 'rb')\n",
    "X_Data_Diffs_Shifted = pickle.load(f)\n",
    "\n",
    "# Convert input to array of tuples\n",
    "xinput_records = X_Data_Diffs_Shifted.to_records()\n",
    "\n",
    "# Read in pickle input targets\n",
    "g = open('yinput.pkl', 'rb')\n",
    "ymatrix = pickle.load(g)\n",
    "\n",
    "# Create training set\n",
    "num_records = len(xinput_records)\n",
    "training_size = round(0.8 * num_records)\n",
    "# test_size = num_records - training_size\n",
    "\n",
    "input_dimension = len(xinput_records[0]) - 1\n",
    "training_set = SupervisedDataSet(input_dimension, 1)\n",
    "rownum = 0\n",
    "for xinput_record in xinput_records[:training_size]:\n",
    "    training_set.addSample( list(xinput_record)[1:], ymatrix[rownum] )\n",
    "    rownum += 1"
   ]
  },
  {
   "cell_type": "code",
   "execution_count": 255,
   "metadata": {
    "collapsed": false
   },
   "outputs": [
    {
     "data": {
      "text/plain": [
       "((1634, 513), (1634,), 1634, 1307.0, 513)"
      ]
     },
     "execution_count": 255,
     "metadata": {},
     "output_type": "execute_result"
    }
   ],
   "source": [
    "X_Data_Diffs_Shifted.shape, ymatrix.shape, num_records, training_size, input_dimension"
   ]
  },
  {
   "cell_type": "code",
   "execution_count": 256,
   "metadata": {
    "collapsed": false
   },
   "outputs": [],
   "source": [
    "# Create the test set (NOTE: copy of training set, bad!)\n",
    "test_set = UnsupervisedDataSet(input_dimension)\n",
    "\n",
    "rownum = 0\n",
    "for xinput_record in xinput_records[training_size:]:\n",
    "    test_set.addSample( list(xinput_record)[1:])\n",
    "    rownum += 1"
   ]
  },
  {
   "cell_type": "code",
   "execution_count": 236,
   "metadata": {
    "collapsed": false
   },
   "outputs": [
    {
     "name": "stdout",
     "output_type": "stream",
     "text": [
      "Accuracy is 0.509174\n",
      "Accuracy is 0.484709\n",
      "Accuracy is 0.478593\n",
      "Accuracy is 0.500000\n",
      "Accuracy is 0.521407\n",
      "Accuracy is 0.509174\n",
      "Accuracy is 0.509174\n",
      "Accuracy is 0.464832\n",
      "Accuracy is 0.509174\n",
      "Accuracy is 0.454128\n"
     ]
    },
    {
     "ename": "KeyboardInterrupt",
     "evalue": "",
     "output_type": "error",
     "traceback": [
      "\u001b[0;31m---------------------------------------------------------------------------\u001b[0m",
      "\u001b[0;31mKeyboardInterrupt\u001b[0m                         Traceback (most recent call last)",
      "\u001b[0;32m<ipython-input-236-5f21ea43bbf4>\u001b[0m in \u001b[0;36m<module>\u001b[0;34m()\u001b[0m\n\u001b[1;32m      5\u001b[0m     \u001b[0;31m# Train it on our training set\u001b[0m\u001b[0;34m\u001b[0m\u001b[0;34m\u001b[0m\u001b[0m\n\u001b[1;32m      6\u001b[0m     \u001b[0mtrainer\u001b[0m \u001b[0;34m=\u001b[0m \u001b[0mBackpropTrainer\u001b[0m\u001b[0;34m(\u001b[0m\u001b[0mnet\u001b[0m\u001b[0;34m,\u001b[0m \u001b[0mtraining_set\u001b[0m\u001b[0;34m)\u001b[0m\u001b[0;34m\u001b[0m\u001b[0m\n\u001b[0;32m----> 7\u001b[0;31m     \u001b[0mtrainer\u001b[0m\u001b[0;34m.\u001b[0m\u001b[0mtrainEpochs\u001b[0m\u001b[0;34m(\u001b[0m\u001b[0;36m20\u001b[0m\u001b[0;34m)\u001b[0m\u001b[0;34m\u001b[0m\u001b[0m\n\u001b[0m\u001b[1;32m      8\u001b[0m \u001b[0;34m\u001b[0m\u001b[0m\n\u001b[1;32m      9\u001b[0m     \u001b[0;31m# Run the network on the test set\u001b[0m\u001b[0;34m\u001b[0m\u001b[0;34m\u001b[0m\u001b[0m\n",
      "\u001b[0;32m/Users/wilsonkung/anaconda/lib/python2.7/site-packages/pybrain/supervised/trainers/trainer.pyc\u001b[0m in \u001b[0;36mtrainEpochs\u001b[0;34m(self, epochs, *args, **kwargs)\u001b[0m\n\u001b[1;32m     35\u001b[0m         Additional arguments are passed on to the train method.\"\"\"\n\u001b[1;32m     36\u001b[0m         \u001b[0;32mfor\u001b[0m \u001b[0mdummy\u001b[0m \u001b[0;32min\u001b[0m \u001b[0mrange\u001b[0m\u001b[0;34m(\u001b[0m\u001b[0mepochs\u001b[0m\u001b[0;34m)\u001b[0m\u001b[0;34m:\u001b[0m\u001b[0;34m\u001b[0m\u001b[0m\n\u001b[0;32m---> 37\u001b[0;31m             \u001b[0mself\u001b[0m\u001b[0;34m.\u001b[0m\u001b[0mtrain\u001b[0m\u001b[0;34m(\u001b[0m\u001b[0;34m*\u001b[0m\u001b[0margs\u001b[0m\u001b[0;34m,\u001b[0m \u001b[0;34m**\u001b[0m\u001b[0mkwargs\u001b[0m\u001b[0;34m)\u001b[0m\u001b[0;34m\u001b[0m\u001b[0m\n\u001b[0m\u001b[1;32m     38\u001b[0m \u001b[0;34m\u001b[0m\u001b[0m\n\u001b[1;32m     39\u001b[0m     \u001b[0;32mdef\u001b[0m \u001b[0mtrain\u001b[0m\u001b[0;34m(\u001b[0m\u001b[0mself\u001b[0m\u001b[0;34m)\u001b[0m\u001b[0;34m:\u001b[0m\u001b[0;34m\u001b[0m\u001b[0m\n",
      "\u001b[0;32m/Users/wilsonkung/anaconda/lib/python2.7/site-packages/pybrain/supervised/trainers/backprop.pyc\u001b[0m in \u001b[0;36mtrain\u001b[0;34m(self)\u001b[0m\n\u001b[1;32m     62\u001b[0m             \u001b[0;32mif\u001b[0m \u001b[0;32mnot\u001b[0m \u001b[0mself\u001b[0m\u001b[0;34m.\u001b[0m\u001b[0mbatchlearning\u001b[0m\u001b[0;34m:\u001b[0m\u001b[0;34m\u001b[0m\u001b[0m\n\u001b[1;32m     63\u001b[0m                 \u001b[0mgradient\u001b[0m \u001b[0;34m=\u001b[0m \u001b[0mself\u001b[0m\u001b[0;34m.\u001b[0m\u001b[0mmodule\u001b[0m\u001b[0;34m.\u001b[0m\u001b[0mderivs\u001b[0m \u001b[0;34m-\u001b[0m \u001b[0mself\u001b[0m\u001b[0;34m.\u001b[0m\u001b[0mweightdecay\u001b[0m \u001b[0;34m*\u001b[0m \u001b[0mself\u001b[0m\u001b[0;34m.\u001b[0m\u001b[0mmodule\u001b[0m\u001b[0;34m.\u001b[0m\u001b[0mparams\u001b[0m\u001b[0;34m\u001b[0m\u001b[0m\n\u001b[0;32m---> 64\u001b[0;31m                 \u001b[0mnew\u001b[0m \u001b[0;34m=\u001b[0m \u001b[0mself\u001b[0m\u001b[0;34m.\u001b[0m\u001b[0mdescent\u001b[0m\u001b[0;34m(\u001b[0m\u001b[0mgradient\u001b[0m\u001b[0;34m,\u001b[0m \u001b[0merrors\u001b[0m\u001b[0;34m)\u001b[0m\u001b[0;34m\u001b[0m\u001b[0m\n\u001b[0m\u001b[1;32m     65\u001b[0m                 \u001b[0;32mif\u001b[0m \u001b[0mnew\u001b[0m \u001b[0;32mis\u001b[0m \u001b[0;32mnot\u001b[0m \u001b[0mNone\u001b[0m\u001b[0;34m:\u001b[0m\u001b[0;34m\u001b[0m\u001b[0m\n\u001b[1;32m     66\u001b[0m                     \u001b[0mself\u001b[0m\u001b[0;34m.\u001b[0m\u001b[0mmodule\u001b[0m\u001b[0;34m.\u001b[0m\u001b[0mparams\u001b[0m\u001b[0;34m[\u001b[0m\u001b[0;34m:\u001b[0m\u001b[0;34m]\u001b[0m \u001b[0;34m=\u001b[0m \u001b[0mnew\u001b[0m\u001b[0;34m\u001b[0m\u001b[0m\n",
      "\u001b[0;32m/Users/wilsonkung/anaconda/lib/python2.7/site-packages/pybrain/auxiliary/gradientdescent.pyc\u001b[0m in \u001b[0;36m__call__\u001b[0;34m(self, gradient, error)\u001b[0m\n\u001b[1;32m     84\u001b[0m \u001b[0;34m\u001b[0m\u001b[0m\n\u001b[1;32m     85\u001b[0m             \u001b[0;31m# update parameters (including momentum)\u001b[0m\u001b[0;34m\u001b[0m\u001b[0;34m\u001b[0m\u001b[0m\n\u001b[0;32m---> 86\u001b[0;31m             \u001b[0mself\u001b[0m\u001b[0;34m.\u001b[0m\u001b[0mmomentumvector\u001b[0m \u001b[0;34m+=\u001b[0m \u001b[0mself\u001b[0m\u001b[0;34m.\u001b[0m\u001b[0malpha\u001b[0m \u001b[0;34m*\u001b[0m \u001b[0mgradient_arr\u001b[0m\u001b[0;34m\u001b[0m\u001b[0m\n\u001b[0m\u001b[1;32m     87\u001b[0m             \u001b[0mself\u001b[0m\u001b[0;34m.\u001b[0m\u001b[0malpha\u001b[0m \u001b[0;34m*=\u001b[0m \u001b[0mself\u001b[0m\u001b[0;34m.\u001b[0m\u001b[0malphadecay\u001b[0m\u001b[0;34m\u001b[0m\u001b[0m\n\u001b[1;32m     88\u001b[0m \u001b[0;34m\u001b[0m\u001b[0m\n",
      "\u001b[0;31mKeyboardInterrupt\u001b[0m: "
     ]
    }
   ],
   "source": [
    "for _ in range(5):\n",
    "    # Create the network\n",
    "    net = buildNetwork(input_dimension, 400, 50, 1, outclass=LinearLayer,bias=True, recurrent=True)\n",
    "\n",
    "    # Train it on our training set\n",
    "    trainer = BackpropTrainer(net, training_set)\n",
    "    trainer.trainEpochs(20)\n",
    "\n",
    "    # Run the network on the test set\n",
    "    results = net.activateOnDataset(test_set)\n",
    "\n",
    "    # Round the results to get a 0 or 1\n",
    "\n",
    "    rounded_results = map(int, map(round, results))\n",
    "\n",
    "    # Calculate the accuracy\n",
    "    num_correct = 0\n",
    "\n",
    "    for row in range(len(rounded_results)):\n",
    "        if ymatrix[row] == rounded_results[row]:\n",
    "            num_correct += 1\n",
    "    print \"Accuracy is %f\" % (num_correct / float(len(rounded_results)))"
   ]
  },
  {
   "cell_type": "code",
   "execution_count": 238,
   "metadata": {
    "collapsed": false
   },
   "outputs": [
    {
     "name": "stdout",
     "output_type": "stream",
     "text": [
      "50 50 0.510703363914\n",
      "50 50 0.542813455657\n",
      "50 50 0.496941896024\n",
      "50 50 0.475535168196\n",
      "50 50 0.512232415902\n",
      "50 100 0.507645259939\n",
      "50 100 0.51376146789\n",
      "50 100 0.507645259939\n",
      "50 100 0.469418960245\n",
      "50 100 0.475535168196\n",
      "50 200 0.467889908257\n",
      "50 200 0.5\n",
      "50 200 0.455657492355\n",
      "50 200 0.5\n",
      "50 200 0.467889908257\n",
      "50 300 0.44495412844\n",
      "50 300 0.463302752294\n",
      "50 300 0.437308868502\n",
      "50 300 0.452599388379\n",
      "50 300 0.428134556575\n",
      "50 400 0.39755351682\n",
      "50 400 0.432721712538\n",
      "50 400 0.426605504587\n",
      "50 400 0.425076452599\n",
      "50 400 0.454128440367\n",
      "100 50 0.522935779817\n",
      "100 50 0.492354740061\n",
      "100 50 0.493883792049\n",
      "100 50 0.489296636086\n",
      "100 50 0.529051987768\n",
      "100 100 0.495412844037\n",
      "100 100 0.498470948012\n",
      "100 100 0.509174311927\n",
      "100 100 0.490825688073\n",
      "100 100 0.460244648318\n",
      "100 200 0.449541284404\n",
      "100 200 0.428134556575\n",
      "100 200 0.43119266055\n",
      "100 200 0.467889908257\n",
      "100 200 0.429663608563\n",
      "100 300 0.388379204893\n",
      "100 300 0.437308868502\n",
      "100 300 0.388379204893\n",
      "100 300 0.400611620795\n",
      "100 300 0.435779816514\n",
      "100 400 0.474006116208\n",
      "100 400 0.435779816514\n",
      "100 400 0.423547400612\n",
      "100 400 0.432721712538\n",
      "100 400 0.403669724771\n",
      "200 50 0.47247706422\n",
      "200 50 0.533639143731\n",
      "200 50 0.524464831804\n",
      "200 50 0.452599388379\n",
      "200 50 0.496941896024\n",
      "200 100 0.461773700306\n",
      "200 100 0.493883792049\n",
      "200 100 0.469418960245\n",
      "200 100 0.484709480122\n",
      "200 100 0.463302752294\n",
      "200 200 0.460244648318\n",
      "200 200 0.443425076453\n",
      "200 200 0.461773700306\n",
      "200 200 0.426605504587\n",
      "200 200 0.460244648318\n",
      "200 300 0.428134556575\n",
      "200 300 0.389908256881\n",
      "200 300 0.425076452599\n",
      "200 300 0.386850152905\n",
      "200 300 0.423547400612\n",
      "200 400 0.39755351682\n",
      "200 400 0.409785932722\n",
      "200 400 0.391437308869\n",
      "200 400 0.405198776758\n",
      "200 400 0.438837920489\n",
      "300 50 0.542813455657\n",
      "300 50 0.489296636086\n",
      "300 50 0.507645259939\n",
      "300 50 0.501529051988\n",
      "300 50 0.469418960245\n",
      "300 100 0.470948012232\n",
      "300 100 0.515290519878\n",
      "300 100 0.5\n",
      "300 100 0.506116207951\n",
      "300 100 0.470948012232\n",
      "300 200 0.448012232416\n",
      "300 200 0.443425076453\n",
      "300 200 0.464831804281\n",
      "300 200 0.437308868502\n",
      "300 200 0.426605504587\n",
      "300 300 0.402140672783\n",
      "300 300 0.434250764526\n",
      "300 300 0.429663608563\n",
      "300 300 0.389908256881\n",
      "300 300 0.373088685015\n",
      "300 400 0.382262996942\n",
      "300 400 0.418960244648\n",
      "300 400 0.39755351682\n",
      "300 400 0.380733944954\n",
      "300 400 0.420489296636\n",
      "400 50 0.47247706422\n",
      "400 50 0.496941896024\n",
      "400 50 0.512232415902\n",
      "400 50 0.461773700306\n",
      "400 50 0.519877675841\n",
      "400 100 0.489296636086\n",
      "400 100 0.484709480122\n",
      "400 100 0.515290519878\n",
      "400 100 0.477064220183\n",
      "400 100 0.454128440367\n",
      "400 200 0.423547400612\n",
      "400 200 0.443425076453\n",
      "400 200 0.441896024465\n",
      "400 200 0.440366972477\n",
      "400 200 0.437308868502\n",
      "400 300 0.406727828746\n",
      "400 300 0.418960244648\n",
      "400 300 0.437308868502\n",
      "400 300 0.420489296636\n",
      "400 300 0.432721712538\n",
      "400 400 0.409785932722\n",
      "400 400 0.415902140673\n",
      "400 400 0.408256880734\n",
      "400 400 0.400611620795\n",
      "400 400 0.376146788991\n"
     ]
    }
   ],
   "source": [
    "firstnodes = [50, 100, 200, 300, 400]\n",
    "secondnodes = [50, 100, 200, 300, 400]\n",
    "\n",
    "for firstnode in firstnodes:\n",
    "    for secondnode in secondnodes:\n",
    "        for _ in range(5):\n",
    "            # Create the network\n",
    "            net = buildNetwork(input_dimension, firstnode, secondnode, 1, outclass=LinearLayer,bias=True, recurrent=True)\n",
    "\n",
    "            # Train it on our training set\n",
    "            trainer = BackpropTrainer(net, training_set)\n",
    "            trainer.trainEpochs(100)\n",
    "\n",
    "            # Run the network on the test set\n",
    "            results = net.activateOnDataset(test_set)\n",
    "\n",
    "            # Round the results to get a 0 or 1\n",
    "\n",
    "            rounded_results = map(int, map(round, results))\n",
    "\n",
    "            # Calculate the accuracy\n",
    "            num_correct = 0\n",
    "\n",
    "            for row in range(len(rounded_results)):\n",
    "                if ymatrix[row] == rounded_results[row]:\n",
    "                    num_correct += 1\n",
    "            print firstnode, secondnode, (num_correct / float(len(rounded_results)))"
   ]
  },
  {
   "cell_type": "code",
   "execution_count": 239,
   "metadata": {
    "collapsed": false
   },
   "outputs": [
    {
     "name": "stdout",
     "output_type": "stream",
     "text": [
      "25 25 0.466360856269\n",
      "25 25 0.495412844037\n",
      "25 25 0.509174311927\n",
      "25 25 0.470948012232\n",
      "25 25 0.515290519878\n",
      "25 50 0.489296636086\n",
      "25 50 0.464831804281\n",
      "25 50 0.52752293578\n",
      "25 50 0.489296636086\n",
      "25 50 0.483180428135\n",
      "50 25 0.467889908257\n",
      "50 25 0.539755351682\n",
      "50 25 0.48623853211\n",
      "50 25 0.506116207951\n",
      "50 25 0.503058103976\n",
      "50 50 0.498470948012\n",
      "50 50 0.492354740061\n",
      "50 50 0.501529051988\n",
      "50 50 0.503058103976\n",
      "50 50 0.529051987768\n"
     ]
    }
   ],
   "source": [
    "firstnodes = [25, 50]\n",
    "secondnodes = [25, 50]\n",
    "\n",
    "for firstnode in firstnodes:\n",
    "    for secondnode in secondnodes:\n",
    "        for _ in range(5):\n",
    "            # Create the network\n",
    "            net = buildNetwork(input_dimension, firstnode, secondnode, 1, outclass=LinearLayer,bias=True, recurrent=True)\n",
    "\n",
    "            # Train it on our training set\n",
    "            trainer = BackpropTrainer(net, training_set)\n",
    "            trainer.trainEpochs(100)\n",
    "\n",
    "            # Run the network on the test set\n",
    "            results = net.activateOnDataset(test_set)\n",
    "\n",
    "            # Round the results to get a 0 or 1\n",
    "\n",
    "            rounded_results = map(int, map(round, results))\n",
    "\n",
    "            # Calculate the accuracy\n",
    "            num_correct = 0\n",
    "\n",
    "            for row in range(len(rounded_results)):\n",
    "                if ymatrix[row] == rounded_results[row]:\n",
    "                    num_correct += 1\n",
    "            print firstnode, secondnode, (num_correct / float(len(rounded_results)))"
   ]
  },
  {
   "cell_type": "code",
   "execution_count": 257,
   "metadata": {
    "collapsed": false,
    "scrolled": true
   },
   "outputs": [
    {
     "name": "stdout",
     "output_type": "stream",
     "text": [
      "50 50 0.477064220183\n",
      "50 50 0.48623853211\n",
      "50 50 0.492354740061\n",
      "50 50 0.480122324159\n",
      "50 50 0.498470948012\n"
     ]
    }
   ],
   "source": [
    "firstnodes = [50]\n",
    "secondnodes = [50]\n",
    "\n",
    "for firstnode in firstnodes:\n",
    "    for secondnode in secondnodes:\n",
    "        for _ in range(5):\n",
    "            # Create the network\n",
    "            net = buildNetwork(input_dimension, firstnode, secondnode, 1, outclass=LinearLayer,bias=True, recurrent=True)\n",
    "\n",
    "            # Train it on our training set\n",
    "            trainer = BackpropTrainer(net, training_set)\n",
    "            trainer.trainEpochs(100)\n",
    "\n",
    "            # Run the network on the test set\n",
    "            results = net.activateOnDataset(test_set)\n",
    "\n",
    "            # Round the results to get a 0 or 1\n",
    "\n",
    "            rounded_results = map(int, map(round, results))\n",
    "\n",
    "            # Calculate the accuracy\n",
    "            num_correct = 0\n",
    "\n",
    "            for row in range(len(rounded_results)):\n",
    "                if ymatrix[row] == rounded_results[row]:\n",
    "                    num_correct += 1\n",
    "            print firstnode, secondnode, (num_correct / float(len(rounded_results)))"
   ]
  },
  {
   "cell_type": "markdown",
   "metadata": {},
   "source": [
    "==========="
   ]
  },
  {
   "cell_type": "code",
   "execution_count": 28,
   "metadata": {
    "collapsed": false
   },
   "outputs": [
    {
     "data": {
      "text/plain": [
       "numpy.ndarray"
      ]
     },
     "execution_count": 28,
     "metadata": {},
     "output_type": "execute_result"
    }
   ],
   "source": [
    "type(ds.data['input'])"
   ]
  },
  {
   "cell_type": "code",
   "execution_count": 29,
   "metadata": {
    "collapsed": true
   },
   "outputs": [],
   "source": [
    "import pandas as pd\n",
    "data_df = pd.DataFrame.from_csv('data_file.txt',index_col=False)"
   ]
  },
  {
   "cell_type": "code",
   "execution_count": 55,
   "metadata": {
    "collapsed": false
   },
   "outputs": [],
   "source": [
    "import pickle\n",
    "f = open('xinput.pkl', 'rb')\n",
    "X_Data_Diffs_Shifted = pickle.load(f)\n",
    "\n",
    "g = open('yinput.pkl', 'rb')\n",
    "ymatrix = pickle.load(g)"
   ]
  },
  {
   "cell_type": "code",
   "execution_count": 58,
   "metadata": {
    "collapsed": false
   },
   "outputs": [],
   "source": [
    "xinput_records = X_Data_Diffs_Shifted.to_records()"
   ]
  },
  {
   "cell_type": "code",
   "execution_count": 73,
   "metadata": {
    "collapsed": false
   },
   "outputs": [
    {
     "data": {
      "text/plain": [
       "<pybrain.datasets.supervised.SupervisedDataSet at 0x10ae79990>"
      ]
     },
     "execution_count": 73,
     "metadata": {},
     "output_type": "execute_result"
    }
   ],
   "source": [
    "test = SupervisedDataSet(len(xinput_records[0]) - 1, 1)\n",
    "rownum = 0\n",
    "for xinput_record in xinput_records:\n",
    "    test.addSample( list(xinput_records[0])[1:], ymatrix[rownum] )\n",
    "    rownum += 1\n",
    "test"
   ]
  },
  {
   "cell_type": "code",
   "execution_count": 72,
   "metadata": {
    "collapsed": false
   },
   "outputs": [
    {
     "data": {
      "text/plain": [
       "array([0, 1, 0, 0, 0, 0, 0, 0, 1], dtype=int32)"
      ]
     },
     "execution_count": 72,
     "metadata": {},
     "output_type": "execute_result"
    }
   ],
   "source": []
  },
  {
   "cell_type": "code",
   "execution_count": null,
   "metadata": {
    "collapsed": true
   },
   "outputs": [],
   "source": []
  }
 ],
 "metadata": {
  "kernelspec": {
   "display_name": "Python 2",
   "language": "python",
   "name": "python2"
  },
  "language_info": {
   "codemirror_mode": {
    "name": "ipython",
    "version": 2
   },
   "file_extension": ".py",
   "mimetype": "text/x-python",
   "name": "python",
   "nbconvert_exporter": "python",
   "pygments_lexer": "ipython2",
   "version": "2.7.10"
  }
 },
 "nbformat": 4,
 "nbformat_minor": 0
}
