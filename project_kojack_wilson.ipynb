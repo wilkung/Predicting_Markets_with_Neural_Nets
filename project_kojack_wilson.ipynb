{
 "cells": [
  {
   "cell_type": "code",
   "execution_count": null,
   "metadata": {
    "collapsed": false
   },
   "outputs": [],
   "source": [
    "#create list of all dates from 12/31/99 to 07/31/2015\n",
    "import datetime\n",
    "\n",
    "dt = datetime.datetime(1999, 12, 31)\n",
    "end = datetime.datetime(2015, 7, 31)\n",
    "step = datetime.timedelta(days=1)\n",
    "\n",
    "dates = []\n",
    "\n",
    "while dt < end:\n",
    "    dates.append(dt.strftime('%Y-%m-%d'))\n",
    "    dt += step"
   ]
  },
  {
   "cell_type": "code",
   "execution_count": null,
   "metadata": {
    "collapsed": false
   },
   "outputs": [],
   "source": [
    "#write list of dates into master data file (data_file.txt)\n",
    "type( dates[0] )\n",
    "dates[0]\n",
    "\n",
    "data_file = open(\"data_file.txt\", \"w\")\n",
    "\n",
    "data_file.write('Date' +\"\\n\")\n",
    "for date in dates:\n",
    "    data_file.write(date + \",\\n\")              \n",
    "\n",
    "data_file.close()"
   ]
  },
  {
   "cell_type": "code",
   "execution_count": null,
   "metadata": {
    "collapsed": false
   },
   "outputs": [],
   "source": [
    "# create 2 lists of daily filenames and weekly filenames in directory\n",
    "from os import listdir\n",
    "from os.path import isfile, join\n",
    "import os\n",
    "import glob\n",
    "\n",
    "daily_directory = '/Users/wilsonkung/DataScience/metis/projects/project_kojak_wilsonkung/data/Daily'\n",
    "weekly_directory =  '/Users/wilsonkung/DataScience/metis/projects/project_kojak_wilsonkung/data/weekly'\n",
    "\n",
    "daily_files = [ f for f in listdir(daily_directory) if isfile(join(daily_directory, f)) and f[0] not in ['_', '.'] ]\n",
    "weekly_files = [ f for f in listdir(weekly_directory) if isfile(join(weekly_directory, f)) and f[0] not in ['_', '.'] ]"
   ]
  },
  {
   "cell_type": "code",
   "execution_count": null,
   "metadata": {
    "collapsed": false
   },
   "outputs": [],
   "source": [
    "daily_files"
   ]
  },
  {
   "cell_type": "code",
   "execution_count": null,
   "metadata": {
    "collapsed": false
   },
   "outputs": [],
   "source": [
    "import pandas as pd\n",
    "data_df = pd.DataFrame.from_csv('data_file.txt',index_col=False)\n",
    "#data_df = pandas.read_csv('data_file.txt')"
   ]
  },
  {
   "cell_type": "code",
   "execution_count": null,
   "metadata": {
    "collapsed": false
   },
   "outputs": [],
   "source": [
    "data_df"
   ]
  },
  {
   "cell_type": "code",
   "execution_count": null,
   "metadata": {
    "collapsed": true
   },
   "outputs": [],
   "source": [
    "for file in daily_files:\n",
    "    temp_df = pd.read_csv('./data/Daily/' + file)\n",
    "    data_df = data_df.merge(temp_df, on='Date', how='left')"
   ]
  },
  {
   "cell_type": "code",
   "execution_count": null,
   "metadata": {
    "collapsed": false
   },
   "outputs": [],
   "source": [
    "data_df"
   ]
  },
  {
   "cell_type": "code",
   "execution_count": null,
   "metadata": {
    "collapsed": true
   },
   "outputs": [],
   "source": []
  },
  {
   "cell_type": "code",
   "execution_count": null,
   "metadata": {
    "collapsed": false
   },
   "outputs": [],
   "source": [
    "#insert each daily file's data into master data file\n",
    "\n",
    "data_file = open(\"data_file.txt\", \"w\")\n",
    "\n",
    "for file in daily_files:\n",
    "    \n",
    "    f = open('./data/Daily/' + file, 'r')\n",
    "    data_file.write(file.split('.')[1] + \",\\n\")\n",
    "\n",
    "    for line in f:\n",
    "        date = line.split(',')[0][0]\n",
    "        data = float( [line.split(',')][0][1]\n",
    "        \n",
    "    data_file.write(\"hello world in the new file\\n\")\n",
    "\n",
    "              \n",
    "data_file.close()"
   ]
  },
  {
   "cell_type": "code",
   "execution_count": null,
   "metadata": {
    "collapsed": true
   },
   "outputs": [],
   "source": []
  },
  {
   "cell_type": "code",
   "execution_count": null,
   "metadata": {
    "collapsed": true
   },
   "outputs": [],
   "source": []
  },
  {
   "cell_type": "code",
   "execution_count": null,
   "metadata": {
    "collapsed": false
   },
   "outputs": [],
   "source": [
    "data_file = open(\"data_file.txt\", \"w\")\n",
    "f = open('./data/Daily/' + daily_files[0], 'r')\n",
    "\n",
    "float( [f.readline().split(',')][0][1]"
   ]
  },
  {
   "cell_type": "code",
   "execution_count": null,
   "metadata": {
    "collapsed": false
   },
   "outputs": [],
   "source": [
    "data_file = open(\"data_file.txt\", \"a\")\n",
    "\n",
    "daily_files[0]\n",
    "f = open('./data/Daily/' + daily_files[0], 'r')\n",
    "data_file.write(daily_files[0].split('.')[0] + \",\\n\")\n",
    "\n",
    "data_file.close()"
   ]
  },
  {
   "cell_type": "code",
   "execution_count": null,
   "metadata": {
    "collapsed": false
   },
   "outputs": [],
   "source": [
    "daily_files[0].split('.')[0]+\",\""
   ]
  },
  {
   "cell_type": "code",
   "execution_count": null,
   "metadata": {
    "collapsed": true
   },
   "outputs": [],
   "source": [
    "    "
   ]
  }
 ],
 "metadata": {
  "kernelspec": {
   "display_name": "Python 2",
   "language": "python",
   "name": "python2"
  },
  "language_info": {
   "codemirror_mode": {
    "name": "ipython",
    "version": 2
   },
   "file_extension": ".py",
   "mimetype": "text/x-python",
   "name": "python",
   "nbconvert_exporter": "python",
   "pygments_lexer": "ipython2",
   "version": "2.7.10"
  }
 },
 "nbformat": 4,
 "nbformat_minor": 0
}
